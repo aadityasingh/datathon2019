{
 "cells": [
  {
   "cell_type": "code",
   "execution_count": 2,
   "metadata": {},
   "outputs": [],
   "source": [
    "import pandas as pd\n",
    "import numpy as np\n",
    "import matplotlib as plt\n",
    "\n",
    "seds = pd.read_csv('seds.csv') #1\n",
    "revenue_to_provider = pd.read_csv('revenue_to_provider.csv') #2\n",
    "filter_pack_concentrations_weekly = pd.read_csv('filter_pack_concentration_weekly.csv') #3\n",
    "energy_workforce_training = pd.read_csv('energy_workforce_training.csv') #4\n",
    "vehicles = pd.read_csv('vehicles.csv') #5\n",
    "land_temp_by_city = pd.read_csv('land_temp_by_city.csv') #6\n",
    "land_temp_by_state = pd.read_csv('land_temp_by_state.csv') #7\n",
    "power_plants = pd.read_csv('power_plants.csv') #8"
   ]
  },
  {
   "cell_type": "code",
   "execution_count": null,
   "metadata": {},
   "outputs": [],
   "source": []
  },
  {
   "cell_type": "code",
   "execution_count": 3,
   "metadata": {
    "scrolled": true
   },
   "outputs": [],
   "source": [
    "seds['energy_source'] = seds['msn'].apply(lambda v: v[:2])\n",
    "seds['energy_sector'] = seds['msn'].apply(lambda v: v[2:4])\n",
    "seds['energy_unit'] = seds['msn'].apply(lambda v: v[4])"
   ]
  },
  {
   "cell_type": "code",
   "execution_count": 27,
   "metadata": {},
   "outputs": [],
   "source": [
    "import math\n",
    "\n",
    "cities = dict()\n",
    "for index, row in land_temp_by_city.iterrows():\n",
    "    if row['city'] not in cities.keys():\n",
    "        x = math.cos(row['latitude']) * math.cos(row['longitude'])\n",
    "        y = math.cos(row['latitude']) * math.sin(row['longitude'])\n",
    "        z = math.sin(row['latitude'])\n",
    "        cities[row['city']] = (x,y,z)\n",
    "        \n",
    "temp_cities = pd.DataFrame.from_dict(cities, orient='index', columns=['x','y','z'])\n",
    "\n",
    "cities = dict()\n",
    "for index, row in power_plants.iterrows():\n",
    "    if row['city'] not in cities.keys():\n",
    "        x = math.cos(row['latitude']) * math.cos(row['longitude'])\n",
    "        y = math.cos(row['latitude']) * math.sin(row['longitude'])\n",
    "        z = math.sin(row['latitude'])\n",
    "        cities[row['city']] = (x,y,z)\n",
    "        \n",
    "plants_cities = pd.DataFrame.from_dict(cities, orient='index', columns=['x','y','z'])"
   ]
  },
  {
   "cell_type": "code",
   "execution_count": 40,
   "metadata": {},
   "outputs": [
    {
     "data": {
      "text/plain": [
       "latitude                   39.9883\n",
       "longitude                 -79.2516\n",
       "state_code                      PA\n",
       "county                    Somerset\n",
       "date_on        01/03/2000 16:37:00\n",
       "date_off       01/10/2000 16:03:00\n",
       "TSO4                        2.3406\n",
       "TNH4                        0.7764\n",
       "CA                          0.1267\n",
       "MG                          0.0144\n",
       "NA                           0.174\n",
       "K                           0.0536\n",
       "CL                             NaN\n",
       "NSO4                        0.4753\n",
       "NHNO3                       1.1347\n",
       "WSO2                       10.2084\n",
       "WNO3                        0.5588\n",
       "total_SO2                  10.5254\n",
       "total_NO3                    1.893\n",
       "flow_volume                14.9233\n",
       "x                         0.498385\n",
       "Name: 0, dtype: object"
      ]
     },
     "execution_count": 40,
     "metadata": {},
     "output_type": "execute_result"
    }
   ],
   "source": []
  },
  {
   "cell_type": "code",
   "execution_count": 22,
   "metadata": {},
   "outputs": [
    {
     "data": {
      "text/plain": [
       "248"
      ]
     },
     "execution_count": 22,
     "metadata": {},
     "output_type": "execute_result"
    }
   ],
   "source": [
    "len(set(power_plants.city))\n",
    "len(set(land_temp_by_city.city))"
   ]
  },
  {
   "cell_type": "code",
   "execution_count": 70,
   "metadata": {},
   "outputs": [],
   "source": [
    "# add state_name column to dataset_6\n",
    "\n",
    "power_plant_cities = dict()\n",
    "for index, row in power_plants.iterrows():\n",
    "    if (row['city']) not in power_plant_cities.keys():\n",
    "        power_plant_cities[row['city']] = [(row['state_name'],row['latitude'], row['longitude'])]\n",
    "    else:\n",
    "        already_in = False\n",
    "        for el in power_plant_cities[row['city']]:\n",
    "            if el[0] == row['state_name']:\n",
    "                already_in = True\n",
    "        if not already_in:\n",
    "            power_plant_cities[row['city']].append((row['state_name'],row['latitude'], row['longitude']))\n",
    "            \n",
    "\n",
    "def get_state(row, cities_dict):\n",
    "    try:\n",
    "        if len(cities_dict[row['city']])==1:\n",
    "            return cities_dict[row['city']][0][0]\n",
    "        else:\n",
    "            return min(cities_dict[row['city']], lambda v: (v[0]-row['latitude'])**2 + (v[1]-row['longitude']**2))[0]\n",
    "    except:\n",
    "        return 'UNDEFINED'\n",
    "\n",
    "land_temp_by_city['state_name'] = land_temp_by_city.apply(get_state,args=(power_plant_cities,), axis=1)\n"
   ]
  },
  {
   "cell_type": "code",
   "execution_count": 72,
   "metadata": {},
   "outputs": [],
   "source": [
    "from math import cos, asin, sqrt\n",
    "\n",
    "temp_cities_dict = dict()\n",
    "for index, row in land_temp_by_city.iterrows():\n",
    "    if (row['city'], row['state_name']) not in temp_cities_dict.keys():\n",
    "        temp_cities_dict[(row['city'], row['state_name'])] = (row['latitude'], row['longitude'])\n",
    "        \n",
    "temp_cities = []\n",
    "for key, item in cities.items():\n",
    "    temp_cities.append({'city_state':key, 'latitude':item[0], 'longitude':item[1]})\n",
    "    \n",
    "power_cities_dict = dict()\n",
    "for index, row in power_plants.iterrows():\n",
    "    if (row['city'], row['state_name']) not in power_cities_dict.keys():\n",
    "        power_cities_dict[(row['city'], row['state_name'])] = (row['latitude'], row['longitude'])\n",
    "        \n",
    "power_cities = []\n",
    "for key, item in cities.items():\n",
    "    power_cities.append({'city_state':key, 'latitude':item[0], 'longitude':item[1]})\n",
    "        \n",
    "        "
   ]
  },
  {
   "cell_type": "code",
   "execution_count": 78,
   "metadata": {},
   "outputs": [],
   "source": [
    "def distance(lat1, lon1, lat2, lon2):\n",
    "    p = 0.017453292519943295\n",
    "    a = 0.5 - cos((lat2-lat1)*p)/2 + cos(lat1*p)*cos(lat2*p) * (1-cos((lon2-lon1)*p)) / 2\n",
    "    return 12742 * asin(sqrt(a))\n",
    "\n",
    "def closest(v, data): # data = cities, v = row \n",
    "    x = min(data, key=lambda p: distance(v['latitude'],v['longitude'],p['latitude'],p['longitude']))\n",
    "    return pd.Series([x['city_state'], distance(x['latitude'],x['longitude'],v['latitude'], v['longitude'])])"
   ]
  },
  {
   "cell_type": "code",
   "execution_count": null,
   "metadata": {
    "scrolled": true
   },
   "outputs": [],
   "source": [
    "filter_pack_concentrations_weekly[['temp_city', 'temp_city_dist']] = filter_pack_concentrations_weekly.apply(closest, args=(temp_cities,), axis=1)\n",
    "filter_pack_concentrations_weekly[['power_city', 'power_city_dist']] = filter_pack_concentrations_weekly.apply(closest, args=(power_cities,), axis=1)\n",
    "\n",
    "\n"
   ]
  },
  {
   "cell_type": "code",
   "execution_count": 71,
   "metadata": {},
   "outputs": [
    {
     "data": {
      "text/plain": [
       "{'Alabama',\n",
       " 'Alaska',\n",
       " 'Arizona',\n",
       " 'Arkansas',\n",
       " 'California',\n",
       " 'Colorado',\n",
       " 'Connecticut',\n",
       " 'Florida',\n",
       " 'Georgia',\n",
       " 'Illinois',\n",
       " 'Indiana',\n",
       " 'Iowa',\n",
       " 'Kentucky',\n",
       " 'Louisiana',\n",
       " 'Maryland',\n",
       " 'Massachusetts',\n",
       " 'Michigan',\n",
       " 'Minnesota',\n",
       " 'Missouri',\n",
       " 'Nebraska',\n",
       " 'Nevada',\n",
       " 'New Jersey',\n",
       " 'New Mexico',\n",
       " 'New York',\n",
       " 'North Carolina',\n",
       " 'Ohio',\n",
       " 'Oklahoma',\n",
       " 'Oregon',\n",
       " 'Pennsylvania',\n",
       " 'Rhode Island',\n",
       " 'South Dakota',\n",
       " 'Tennessee',\n",
       " 'Texas',\n",
       " 'UNDEFINED',\n",
       " 'Utah',\n",
       " 'Virginia',\n",
       " 'Washington',\n",
       " 'Wisconsin'}"
      ]
     },
     "execution_count": 71,
     "metadata": {},
     "output_type": "execute_result"
    }
   ],
   "source": [
    "set(land_temp_by_city['state_name'])"
   ]
  },
  {
   "cell_type": "code",
   "execution_count": null,
   "metadata": {},
   "outputs": [],
   "source": []
  }
 ],
 "metadata": {
  "kernelspec": {
   "display_name": "Python 3",
   "language": "python",
   "name": "python3"
  },
  "language_info": {
   "codemirror_mode": {
    "name": "ipython",
    "version": 3
   },
   "file_extension": ".py",
   "mimetype": "text/x-python",
   "name": "python",
   "nbconvert_exporter": "python",
   "pygments_lexer": "ipython3",
   "version": "3.7.0"
  }
 },
 "nbformat": 4,
 "nbformat_minor": 2
}
