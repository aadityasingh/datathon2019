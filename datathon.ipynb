{
 "cells": [
  {
   "cell_type": "code",
   "execution_count": 3,
   "metadata": {},
   "outputs": [],
   "source": [
    "import pandas as pd\n",
    "import numpy as np\n",
    "\n",
    "seds = pd.read_csv('datasets/seds.csv') #1\n",
    "revenue_to_provider = pd.read_csv('datasets/revenue_to_provider.csv') #2\n",
    "filter_pack_concentrations_weekly = pd.read_csv('datasets/filter_pack_concentration_weekly.csv') #3\n",
    "energy_workforce_training = pd.read_csv('datasets/energy_workforce_training.csv') #4\n",
    "vehicles = pd.read_csv('datasets/vehicles.csv') #5\n",
    "land_temp_by_city = pd.read_csv('datasets/land_temp_by_city.csv') #6\n",
    "land_temp_by_state = pd.read_csv('datasets/land_temp_by_state.csv') #7\n",
    "power_plants = pd.read_csv('datasets/power_plants.csv') #8"
   ]
  },
  {
   "cell_type": "code",
   "execution_count": 15,
   "metadata": {
    "scrolled": true
   },
   "outputs": [
    {
     "data": {
      "text/html": [
       "<div>\n",
       "<style scoped>\n",
       "    .dataframe tbody tr th:only-of-type {\n",
       "        vertical-align: middle;\n",
       "    }\n",
       "\n",
       "    .dataframe tbody tr th {\n",
       "        vertical-align: top;\n",
       "    }\n",
       "\n",
       "    .dataframe thead th {\n",
       "        text-align: right;\n",
       "    }\n",
       "</style>\n",
       "<table border=\"1\" class=\"dataframe\">\n",
       "  <thead>\n",
       "    <tr style=\"text-align: right;\">\n",
       "      <th></th>\n",
       "      <th>longitude</th>\n",
       "      <th>latitude</th>\n",
       "      <th>plant_name</th>\n",
       "      <th>utility_name</th>\n",
       "      <th>sector_name</th>\n",
       "      <th>city</th>\n",
       "      <th>county</th>\n",
       "      <th>state_name</th>\n",
       "      <th>primary_source</th>\n",
       "      <th>total_power</th>\n",
       "      <th>source_description</th>\n",
       "      <th>tech_description</th>\n",
       "    </tr>\n",
       "  </thead>\n",
       "  <tbody>\n",
       "    <tr>\n",
       "      <th>0</th>\n",
       "      <td>-87.356823</td>\n",
       "      <td>33.458665</td>\n",
       "      <td>Bankhead Dam</td>\n",
       "      <td>Alabama Power Co</td>\n",
       "      <td>Electric Utility</td>\n",
       "      <td>Northport</td>\n",
       "      <td>as</td>\n",
       "      <td>Alabama</td>\n",
       "      <td>hydroelectric</td>\n",
       "      <td>56.0</td>\n",
       "      <td>g</td>\n",
       "      <td>Conventional Hydroelectric</td>\n",
       "    </tr>\n",
       "    <tr>\n",
       "      <th>1</th>\n",
       "      <td>-88.010300</td>\n",
       "      <td>31.006900</td>\n",
       "      <td>Barry</td>\n",
       "      <td>Alabama Power Co</td>\n",
       "      <td>Electric Utility</td>\n",
       "      <td>Bucks</td>\n",
       "      <td>Mobile</td>\n",
       "      <td>Alabama</td>\n",
       "      <td>coal</td>\n",
       "      <td>2160.5</td>\n",
       "      <td>Coal = 1088.5 MW, Natural Gas = 1072 MW</td>\n",
       "      <td>Conventional Steam Coal; Natural Gas Fired Com...</td>\n",
       "    </tr>\n",
       "    <tr>\n",
       "      <th>2</th>\n",
       "      <td>-86.283056</td>\n",
       "      <td>32.583889</td>\n",
       "      <td>Walter Bouldin Dam</td>\n",
       "      <td>Alabama Power Co</td>\n",
       "      <td>Electric Utility</td>\n",
       "      <td>Wetumpka</td>\n",
       "      <td>Elmore</td>\n",
       "      <td>Alabama</td>\n",
       "      <td>hydroelectric</td>\n",
       "      <td>225.9</td>\n",
       "      <td>Hydroelectric = 225.9 MW</td>\n",
       "      <td>Conventional Hydroelectric</td>\n",
       "    </tr>\n",
       "    <tr>\n",
       "      <th>3</th>\n",
       "      <td>-85.970800</td>\n",
       "      <td>34.012800</td>\n",
       "      <td>Gadsden</td>\n",
       "      <td>Alabama Power Co</td>\n",
       "      <td>Electric Utility</td>\n",
       "      <td>Gadsden</td>\n",
       "      <td>Etowah</td>\n",
       "      <td>Alabama</td>\n",
       "      <td>natural gas</td>\n",
       "      <td>130.0</td>\n",
       "      <td>Natural Gas = 130 MW</td>\n",
       "      <td>Natural Gas Steam Turbine</td>\n",
       "    </tr>\n",
       "    <tr>\n",
       "      <th>4</th>\n",
       "      <td>-87.196486</td>\n",
       "      <td>33.644344</td>\n",
       "      <td>Gorgas</td>\n",
       "      <td>Alabama Power Co</td>\n",
       "      <td>Electric Utility</td>\n",
       "      <td>Parrish</td>\n",
       "      <td>Walker</td>\n",
       "      <td>Alabama</td>\n",
       "      <td>coal</td>\n",
       "      <td>1034.0</td>\n",
       "      <td>Coal = 1034 MW</td>\n",
       "      <td>Conventional Steam Coal</td>\n",
       "    </tr>\n",
       "  </tbody>\n",
       "</table>\n",
       "</div>"
      ],
      "text/plain": [
       "   longitude   latitude          plant_name      utility_name  \\\n",
       "0 -87.356823  33.458665        Bankhead Dam  Alabama Power Co   \n",
       "1 -88.010300  31.006900               Barry  Alabama Power Co   \n",
       "2 -86.283056  32.583889  Walter Bouldin Dam  Alabama Power Co   \n",
       "3 -85.970800  34.012800             Gadsden  Alabama Power Co   \n",
       "4 -87.196486  33.644344              Gorgas  Alabama Power Co   \n",
       "\n",
       "        sector_name       city  county state_name primary_source  total_power  \\\n",
       "0  Electric Utility  Northport      as    Alabama  hydroelectric         56.0   \n",
       "1  Electric Utility      Bucks  Mobile    Alabama           coal       2160.5   \n",
       "2  Electric Utility   Wetumpka  Elmore    Alabama  hydroelectric        225.9   \n",
       "3  Electric Utility    Gadsden  Etowah    Alabama    natural gas        130.0   \n",
       "4  Electric Utility    Parrish  Walker    Alabama           coal       1034.0   \n",
       "\n",
       "                        source_description  \\\n",
       "0                                        g   \n",
       "1  Coal = 1088.5 MW, Natural Gas = 1072 MW   \n",
       "2                 Hydroelectric = 225.9 MW   \n",
       "3                     Natural Gas = 130 MW   \n",
       "4                           Coal = 1034 MW   \n",
       "\n",
       "                                    tech_description  \n",
       "0                         Conventional Hydroelectric  \n",
       "1  Conventional Steam Coal; Natural Gas Fired Com...  \n",
       "2                         Conventional Hydroelectric  \n",
       "3                          Natural Gas Steam Turbine  \n",
       "4                            Conventional Steam Coal  "
      ]
     },
     "execution_count": 15,
     "metadata": {},
     "output_type": "execute_result"
    }
   ],
   "source": [
    "power_plants.head()"
   ]
  },
  {
   "cell_type": "code",
   "execution_count": 16,
   "metadata": {},
   "outputs": [
    {
     "data": {
      "text/html": [
       "<div>\n",
       "<style scoped>\n",
       "    .dataframe tbody tr th:only-of-type {\n",
       "        vertical-align: middle;\n",
       "    }\n",
       "\n",
       "    .dataframe tbody tr th {\n",
       "        vertical-align: top;\n",
       "    }\n",
       "\n",
       "    .dataframe thead th {\n",
       "        text-align: right;\n",
       "    }\n",
       "</style>\n",
       "<table border=\"1\" class=\"dataframe\">\n",
       "  <thead>\n",
       "    <tr style=\"text-align: right;\">\n",
       "      <th></th>\n",
       "      <th>longitude</th>\n",
       "      <th>latitude</th>\n",
       "      <th>total_power</th>\n",
       "    </tr>\n",
       "  </thead>\n",
       "  <tbody>\n",
       "    <tr>\n",
       "      <th>count</th>\n",
       "      <td>7938.000000</td>\n",
       "      <td>7938.000000</td>\n",
       "      <td>7826.000000</td>\n",
       "    </tr>\n",
       "    <tr>\n",
       "      <th>mean</th>\n",
       "      <td>-95.245314</td>\n",
       "      <td>39.134308</td>\n",
       "      <td>135.639215</td>\n",
       "    </tr>\n",
       "    <tr>\n",
       "      <th>std</th>\n",
       "      <td>18.669527</td>\n",
       "      <td>5.741334</td>\n",
       "      <td>357.091293</td>\n",
       "    </tr>\n",
       "    <tr>\n",
       "      <th>min</th>\n",
       "      <td>-171.712439</td>\n",
       "      <td>-17.287022</td>\n",
       "      <td>0.100000</td>\n",
       "    </tr>\n",
       "    <tr>\n",
       "      <th>25%</th>\n",
       "      <td>-112.859600</td>\n",
       "      <td>35.218360</td>\n",
       "      <td>3.025000</td>\n",
       "    </tr>\n",
       "    <tr>\n",
       "      <th>50%</th>\n",
       "      <td>-91.811438</td>\n",
       "      <td>39.545654</td>\n",
       "      <td>11.500000</td>\n",
       "    </tr>\n",
       "    <tr>\n",
       "      <th>75%</th>\n",
       "      <td>-79.305587</td>\n",
       "      <td>42.554413</td>\n",
       "      <td>81.000000</td>\n",
       "    </tr>\n",
       "    <tr>\n",
       "      <th>max</th>\n",
       "      <td>-38.914783</td>\n",
       "      <td>71.292000</td>\n",
       "      <td>7079.000000</td>\n",
       "    </tr>\n",
       "  </tbody>\n",
       "</table>\n",
       "</div>"
      ],
      "text/plain": [
       "         longitude     latitude  total_power\n",
       "count  7938.000000  7938.000000  7826.000000\n",
       "mean    -95.245314    39.134308   135.639215\n",
       "std      18.669527     5.741334   357.091293\n",
       "min    -171.712439   -17.287022     0.100000\n",
       "25%    -112.859600    35.218360     3.025000\n",
       "50%     -91.811438    39.545654    11.500000\n",
       "75%     -79.305587    42.554413    81.000000\n",
       "max     -38.914783    71.292000  7079.000000"
      ]
     },
     "execution_count": 16,
     "metadata": {},
     "output_type": "execute_result"
    }
   ],
   "source": [
    "power_plants.describe()"
   ]
  },
  {
   "cell_type": "code",
   "execution_count": 10,
   "metadata": {},
   "outputs": [
    {
     "name": "stdout",
     "output_type": "stream",
     "text": [
      "{nan, 'nuclear', 'other', 'wind', 'hydroelectric', 'natural gas', 'coal', 'pumped storage', 'biomass', 'solar', 'geothermal', 'petroleum'}\n"
     ]
    }
   ],
   "source": [
    "primary_sources = set(power_plants['primary_source'])\n",
    "print(primary_sources)"
   ]
  },
  {
   "cell_type": "code",
   "execution_count": 8,
   "metadata": {},
   "outputs": [
    {
     "name": "stdout",
     "output_type": "stream",
     "text": [
      "{'Petroleum', 'Natural Gas', 'Nuclear', 'Renewable', 'Coal', 'Electricity', 'Aggregate'}\n"
     ]
    }
   ],
   "source": [
    "seds_energy_bins = set(seds['energy_bin'])\n",
    "print(seds_energy_bins)"
   ]
  },
  {
   "cell_type": "code",
   "execution_count": 12,
   "metadata": {},
   "outputs": [
    {
     "name": "stdout",
     "output_type": "stream",
     "text": [
      "{'Energy-Only Providers', 'Restructured Retail Service Providers', 'Total Electric Industry', 'Delivery-Only Service', 'Full-Service Providers'}\n",
      "{nan, 'nbn', 'Commercial CHP', 'IPP CHP', 'Commercial Non-CHP', 'Electric Utility', 'IPP Non-CHP', 'Industrial CHP', 'Industrial Non-CHP'}\n"
     ]
    }
   ],
   "source": [
    "revenue_sectors = set(revenue_to_provider['industry_sector'])\n",
    "print(revenue_sectors)\n",
    "power_plant_sectors = set(power_plants['sector_name'])\n",
    "print(power_plant_sectors)"
   ]
  },
  {
   "cell_type": "code",
   "execution_count": 13,
   "metadata": {},
   "outputs": [
    {
     "name": "stdout",
     "output_type": "stream",
     "text": [
      "{'Alternative Energy', 'Electronics,', 'Energy Systems for Precision Manufacturing', 'Precision Welding', 'Mechatronics ', 'Nanoscience Technician ', 'Electromechanical Technology', 'Microsystems', 'Robotic ARC Welder', 'Transportationportation and Material Moving', 'SMAW', 'Biofuel Plant Technician', 'Engineering Technology', 'Welding Technology', 'Stem In Manufacturing', 'CNC Machining', 'Electrical Utility Technology ', 'Aircraft Assembly', 'Entrepreneurship', 'Floor Hand', 'PMMI Mechatronics Certification', 'Wind', 'Engineering PhD', 'Mechanical Maintenance', 'Electronics Engineering', 'Alternative Fuels ', 'STEM career Pathways', 'PLC  ', 'Oil Technology', 'Nanotechnology ', 'Airframe Technical Certificate', 'Smart Meter Technicians', 'Supply Chain Systems', 'Certificate In Renewable Energy', 'Geothermal', 'Waste Stream Reuse', 'Solar Fabrication Technician', 'Machine Technology', 'Alternate Energy Technician', 'Robotic Welding ', 'Industrial Technology', 'Renewable Energy Technicians', 'Nanotechnology', 'Sustainable Energy Education Delivery System', 'Automotive Body Repair', 'Energy Sustainability', 'Alternative And Renewable Energy ', 'Natural Resources Technician', 'Industrial Electricity', 'Transportationportation and logistics', 'Electric Vehiclesicle Maintenance', 'Mechanical Design And Drafting ', 'Digital Fabrication ', 'Rapid prototyping', 'Pneumatics-Hydraulics', 'Welders Helper  ', 'Automation/Electromechanical Level 1', 'Electrical Utility Technology (Lineworker)/Apprenticeship to AAS ', 'Laser And Fiber-Optic Technology ', 'Information and Communications Technology', 'Installation', 'Nuclear Support Technologies', 'Nuclear Generation', 'Plastics', 'Electrical Engineering Technology', 'Energy Conservation', 'Nanomaterials', 'Solar Operator', 'Clean Energy Technology', 'Fuel Systems', 'Blockmakers Certificate', 'Internal Combustion Engine programs', 'Robotic Arc Welder', 'Wind Energy Technician', 'Solar tech CTE', 'Generation Technicians', 'Advanced Manufacturing Certificates', 'Industrial management', 'Mechanical Engineering Technician', 'Nanoscience Technology ', 'ISPQ  Certificate', 'Renewable/Alternative Energy', 'Machine Operator', 'NABCEP Entry Level Exam Training', 'Certified Aerospace Technician ', 'Industrial Systems Technology', 'Quality assurance-inspection officers', '3D Printing', 'Automotive Manufacturing ', 'CNC Programming', 'Photovoltaic fabrication', 'Construction', 'Electro-Mechanical Technology', 'Semiconductor Manufacturing ', 'Welding Machine Tech', 'Sustainable Construction', 'Renewable Energy Technologies', 'Applied Management', 'Electromechanical Systems', 'Nanoscience And Nanotechnology ', 'Transportation Technician ', 'Mechanist/Toolmaker', 'Manufacturing Technology Certificate', 'Process Technician ', 'Building Science Energy Management', 'Automation technology', 'HVAC Installer', 'Green Building Inspectors', 'Master technicians', 'Process Technology Certificate Exam', 'Rural Energy Business Administration -RE', 'Energy Management', 'Energy Auditor Certification', 'Transportationmission Certificate', 'Optics', 'Manufacturing Technician Certificate', 'Production Welding Technical Diploma', 'Semiconductor', 'Industrial Fluid Power Technology', 'Industrial Rediness Certificate', 'Line Technician Program', 'Intermediate Machining', 'Mechatronics Engineering Technology ', 'Wiring Certificate', 'Mechatronics, Engineering, Energy Technician', 'Industrial Design ', 'Microelectromechanical Systems ', 'Technical Aide', 'Manual Milling & Machine Tools Certificate', 'Multi-Skilled Technology', 'Basic Engines', 'Photonics Technology', 'Machine Tool Technician', 'Certified Climb and Descent', 'Carbon Steel Pipe Welder', 'Aviation Maintenance Engineering Technology', 'BPI Analyst', 'LEED certificate', 'Materials Welding ', 'Fossil Generation', 'Aerospace Quality Assurance', 'Biofuelsrefinery Plant Operator Technician', 'Hybrid Automotive Technology', 'Energy Technicians', 'Manufacturing Production', 'Nuclear Operators', 'Electronics certification', 'Residential/ Commercial & Industrial Wiring', 'Electronic engineering', 'Non Nuclear Maintenance ', ' Biofuels Technology', 'clean energy associate degree', 'Welding and Fabrication', 'Biofuelsfuels', 'CNC Operators', 'Fluid Power', 'Composite fabrication-repair', 'Laser Cladding Technology ', 'Electronics Engineering Technician', 'Solar fabrication', 'Industrial Welding', 'Environmental Engineering Technology', 'Computer Integrated Technology', 'Engineering Manufacturing ', 'Solar Thermal Installers', 'Biofuelsrefinery Lab Process Technician', 'Technicians In Highly Automated Manufacturing', 'Production', 'Industrial Automation', 'Automotive Manufacturing', 'Process Technology', 'Power Engineering', 'LEEDS', 'Industrial systems CPC', 'Engineering ', 'Clean Energy', 'Petroleum Production Technology', 'Hybrid auto CTE', 'Aerospace Manufacturing', 'Electrical Systems Technology', 'Computer Numerical Control', 'Electro-Mechanical Enegineering', 'Wind Energy Technician Certificate', 'Mine Management', 'Electro/Mechanical ', 'Microelectro-Mechanical Systems', 'Geothermal Operator', 'Wind Energy Mechanic Diploma', 'National Career Readiness Certificate', 'Asbestos Removal Certificate', 'Advanced Manufacturing Technology', 'SCADA', 'sustainability technology', 'Automotive Technician', 'Environmental Technologies', 'Residential Retro Fit', 'Natural Resources and Environmental Science', 'HERS certificate  ', 'Information Technology ', 'Automation and Process Control', 'Grinding Processes Certificate', 'Drafting', 'Electronic Engineering Technology', 'Environmental Technology', 'Power Plant Technology ', 'Advanced Power Systems Certificate', 'Advanced Optical Networks Certificate', 'Manufacturing Engineering Technologist', 'Electric Machines & Drives', 'Renewable Energy Technologies ', 'Light & Heavy Duty V-Belt Drives', 'Computer Control Programmers Operators', 'Automated Manufacturing', 'Automotive Recycling Technician', 'National Institute of Metalworking Skills (NIMS) Machining', 'Industrial Maintenance Fundamentals', 'Industrial Machine Maintenance Mechanic', 'Certified Green Professional', 'Machine Tooling', 'Manufacturing Technology Production worker', 'Machine Tool Technology', 'Machining Technology', 'Aas Degree In Solar Energy Technology ', 'OSHA 10 CPR/First Aid', 'PLC Certificate', 'Electrical Instrumentation Technology ', 'Light Rail Operations', 'Automotive Manufacturing Technology', 'Pipeline technician', 'applied engineering technology ', 'Energy Level NABCEP', 'Hydraulics; Pneumatics & Pneumatics Maintenance', 'Biochemical Technologies', 'Building Automation', 'Production technician', 'Industrial Maintenance Technician', 'Nanotechnology Lab Experience', 'Materials Rapid prototyping', 'EPA certification', 'CNC Operator Certificate', 'Welding SENSE Standards', 'Home Energy Specialist', 'Biotechnician', 'Ebooks and Moblile Application Design and Coding', 'Petroleum Technology', 'Geoscience Advancement', 'Energy Services and Technology', 'Heating & Refrigeration', 'Structural Welder', 'Renewable Energy Certificate', 'CAM Programming', 'Process Control', 'Mechatronics Engineering Technology', 'NIMS', 'Aerospace Machining (CNC)', 'Advanced Integrated Technology', 'Tool making Certificate', 'Sustainable Construction Tech', 'Aas In Power Plant Operations ', 'Advanced Engines', 'Measurement/Bench work & Engine Lathe Certificate', 'Piping Systems', 'Solar PV Technician', 'Nuclear Welding Inspection Certificate', 'Control', 'Rapid Prototyping', 'Alternative fuels CTE', 'Natural Gas', 'Non Licensed Operator ', 'Manufacturing', 'Heavy Equipment', 'Introduction to robotics', 'Process Technology and Instrumentation ', 'Manufacturing Certificates', 'Advanced Vehicle Systems', 'Operations Technician', 'Welding/Metalworking', 'Industrial Technologies', 'Engineering Design', 'Energy Industries Fundamentals', 'Aircraft Maintenance Technology ', 'Machining', 'Plasma Technology ', 'Wind Turbine Technician', 'Energy System Instrumentation And Control Technician ', 'Laser Optics', 'Computer Integrated Manufacturing', 'Inspection', 'Intro to Nondestructive Testing', 'CNC', 'Biofuelsdigester Technician Certificate', 'Production Skills Certificate', 'Warehousing, Transportationportation Logistics', 'Aerosapce Technician', 'Process Technician', 'Biology', 'Aerospace Technology ', 'Associates of Applied Science', 'NAC Aviation Manufacturing Credentials', 'Logistics Technician', 'Aviation Technician', 'Automation', 'Welding Technician', 'Production Technician', 'Online Technician Traning', 'Weld Inspector Certifications', 'Metropolitan Optical Networking Certificate', 'Oil and Gas Technology ', 'Hybrid diesel CTE', 'Aircraft Technician', 'Engineering Support Technology', 'Electrical Motor Control', 'Transportationportation and Logistics', 'Machine Maintenance', 'Aerospace Manufacturing Core', 'Green Construction and Manufacturing', 'Mechanical Design', 'Sustainable Energy Auditors', 'Industrial Mechanical', 'Fabrication ', 'Wind Fundamentals', 'Engineers', 'Industrial maintenance', 'Industrial Millright', 'Basic Electronics', 'Nanomanufacturing ', 'Bio-informatics', 'Alternative energy technician', 'Energy Efficiency Engineer', 'Construction Technology', 'transportation technologies', 'Machine Tools', 'Advanced Technological Education ', 'Advanced Automotive Technology', 'Welding Machine Operator,', 'General Aviation/Airframe 1', 'Stainless Steel Pipe Welder', 'Welding', 'Basic Machining', 'Green Manufacturing', 'Line Crew', 'Solid Waste Recycling Technician', 'Sustainable Agriculture Technology', 'Engineering -MA', 'Local Foods and Organic Agriculture', 'Minority STEM Education', 'Welding/Fabrication', 'Tuning and Machine Technician', 'Fundamentals of Petroleum', 'Energy operations', 'Metals manufacturing', 'Power Systems Engineering Certificate', 'Programmer', 'Laser and Fiberoptics', 'Nanotechnology Technician', 'Mechanical Drives', 'Computer Integrated Machining', 'Power Plant Technology', 'Advanced Manufacturing', 'Aerospace Composites', 'Wind Energy Associate Of Science Degree ', 'Automotive Industry Technicians', 'Fuel Cell Technologies', 'Computer Control Programmers', 'HVAC Installation', 'Building Science And Engineering Technicians ', 'Hybrid Electric Vehicle Technology', 'Bioenergy Technology', 'Nuclear Technician', 'Energy and Sustainability Management', ' Biofuels Cultivation', 'Roustabout', 'HVAC Installer Certificate', 'Production & Conservation', 'Nanotechnician', 'BPI Buildings Analysts', 'Manufacturing and Engineering Technician', 'First Line Supervisors', 'Nanotechnology Engineering ', 'Engineering Technology ', 'Mechanical Engineering ', 'Electronic Sensors', 'Horticulture', 'Hybrid-Electric Vehicle Technology', 'Maintenance Helper', 'Nuclear Power Technology Aas', 'Electric Utility Certificate', 'Intelligent Infrastructure Systems Technology ', 'Maintenance Technician', 'Advanced manufacturing', 'Aircraft maintenance', 'Aviation Maintenance Technical Certificate', 'Engineering Graphics', 'Green Commercial Buildings', 'Nuclear Operator', 'Weatherization', 'Pre Engineering to BAS pathway ', 'Biofuelsfuels Process Tech', 'Electro-Fluid Power', 'Natural Gas Technicians', 'Nanotechnology and Microsystems', 'Manufacturing Engineering Technician', 'Manufacturing Fundamentals', 'Advanced Machining ', 'Solar PV installer', 'Applied Science', 'Architecture & Engineering', 'Welding ', 'Plastics and composites', 'Nanoscience', 'Information Technology Ceritificates', 'Manufacturing Systems Certificate,', 'Mining and Extractive Technologies', 'Advanced Machine Tool Technology', 'EV/PHEV Vehical Automation ', 'Solar Photovoltaic Installers', 'Alternative Energy Systems Technology', 'Renewable Energy Technologist', 'Laser operator', 'Alternative Fuel Vehicle Operations And Maintenance', 'Sustainable Energy Technology', 'Photonics', 'Mechanical Designer', ' Manufacturing Systems', 'Energy Technician', 'Biofuelsdiesel Technology', 'Programmable Logic Controllers', 'Precision Manufacturing', 'Manufacturing Technology ', 'Oil & Gas Industry', 'Aviation Maintenance Technology ', 'Power Systems Dynamics & Stability', 'Welding-Shield Metal Arc', 'Electronics Technology', 'Associate  In  Applied  Science  In  Nanotechnology Degree  ', 'Composites Technology', 'Energy Technology', 'CNC Codes & Advanced Certificate', 'Electromechanical Systems Technology', 'Robotic Welding course', 'Environmental Science and Technology', 'Biofuelspharmaceutical Technician', 'Renewable Energy Certificate ', 'Field Services Technician', 'Smart Grid Technicians', 'Welding Control Tech', 'Bio-Energy', 'Fabrication Specialization', 'GIS Mapping', 'Industrial automation', 'Mechatronics', 'Additive Manufacturing', 'Process Plant', 'Manual Machining', 'Engineering Technician', 'Intro to Advanced Manufacturing', 'Continuous Process Improvement', 'Electrician', 'Photonics Technicians ', 'Automated Technology', 'Nanoscience Technology', 'Industrial Fabrication', 'MAC/CAD', 'Water Quality Management ', 'Green Buildings', 'Biotechnology', 'Photovoltaic', 'Cyber Security-Networking Technology ', 'Radiation Protection Technology ', 'Building Systems Technician', 'RESNET certificate', 'Nanofabrication', 'NCCER instrumentation', 'Manufacturing Technician', 'Industrial Diploma', 'Aerospace Manufacturing Technical Certificate', 'Licensed electrician', 'Welder', 'biomanufacturing', 'Industrial Engineering Technician', 'Renewable Energy', 'Energy Auditor', 'Advanced Manufacturing Certificate', 'Electric engineering', 'Advanced Hybrid Vehicle Technology', 'Welders', 'Medical Device Manufacturing', 'Industrial Electronics', 'Laboratory Technicians', 'Process Technology Basic Certificate', 'Photonics Technician ', 'CNC Machine Operator', 'Basic Manufacturing', 'Electrical/Electronics', 'Applied Industrial Technology', 'Welding-Gas Tungsten Arc', 'Building Science', 'Electronics', 'Robotics', 'Solar', 'Automation/Electromechanical Level 2', 'Industrial Maintenance', 'Assembler- Press Operation Certificate', 'Manufacturing technology', 'Solar Power Fundamentals', 'Entry Level NABCEP', 'Logistics Technology ', 'Machine Setup', 'Solar Technology', 'Advanced Vehicle Systems Certificate', 'Narrow Web Flexographic Press Operation Certificate', 'MSSC', 'Energy Technician ', 'DTCC AS', 'Mechanical Engineering Technologies', 'Advanced Metal Fabrication/Welding', 'Airframe & Powerplant Aircraft Technician', 'Natural Gas Technician', 'Electro Mechanical Technology', 'Biomanufacturing ', 'CNC machinists', 'Manufacturing Productivity Systems', 'Robotics ', 'Green Energy Technology', 'Manufacturing Engineering Technology', 'Building & Property Maintenance', 'Alternative Energy Tech', 'Nanofabrication Manufacturing Technology', 'Nanoengineering', 'Process Plant Technology Associate Of Applied Science ', 'Industrial Electric/electronics', 'Manufacturing Maintenance', 'Energy Efficiency Technician', 'Mechatronics Technician', 'Energy Efficient Manufacturing', 'Turning & Milling Certificate', 'Solar hot water heater installation', 'Photonics Technician Certificate', 'Semiconductor design and fabrication', 'Solar Thermal Installer', 'Nanoscience Technology Associate Degree ', 'Geoexchange Drilling', 'Life Support And Sustainable Living', 'Industrial Machining', 'Instrumentation & Control', 'Energy and Construction', 'Distributed Energy Technology ', 'Mine Technology', 'Photonics ', 'Manufacturing Skills Certificate', 'Laser Cutting', 'Sustainable Agriculture', 'Mechanotronics', 'Programming-Mastercam Associate Level Certification', 'Geothermal Installer', 'Solar Installer certification', 'Rural Technical Education', 'NDT Technician', 'Electricty ', 'Engineering', 'Materials Aerospace', 'Quality/Analytical Science', 'Wide Web Flexographic Press Operation Certificate', 'Advanced Materials', 'Renewable Energy on the Grid', 'AMTEC assessments and certifications', 'Hydroelectric', 'Certified Production Technician', 'LEED Auditor', 'Renewable Energy Technician', 'Manufacturing Skills Standards Council certification', 'Basic Control', 'Next Generation Manufacturing', 'Production Technicians', 'Sedimentation Control', 'Alternative Fuel-Energy Conservation Tech', 'NanoManufacturing', 'Smart Grid', 'Electrical Technology', 'Soil Conservation', 'Precision Machining Technology', 'Aircraft Maintenance Technology Technician ', 'Commercial Design Assistants', 'Sustainable Landscape Practice', 'Microfabrication', 'Green Buildings Practices', 'Environmental Energy Technology', 'Nuclear Power Technology Certificate', 'CISCO certified Networking', 'Automotive Service Technology ', 'Advanced Vehicle Control Systems ', 'Robotic Welding', 'Tribal Energy', 'Design Technicians ', 'Maintenance and Repair', 'HVAC', 'Building Simulations', 'Semiconductor and nanotechnology manufacturing', 'Digital Fabrication', 'Middle School STEM Education', 'Storm water Management Technician', 'Production Technician ', 'Energy Distribution', 'Production Manger', 'NIMS certification', 'Electrical Engineering', 'Electrical Control Circuits', 'Master mechanics', 'Green High Tech Engineering & Sustainability ', 'Solar CTE', 'Mechanical Engineering Technicians', 'Composites', 'Electromechanical Technician', 'Mining Engineering ', 'Alternative Energy Certificate', 'Energy Efficiency', 'Entry Level Maintenance Engineering Technology', 'Industrial Automation Technology', 'Semiconductor and nanotechnology', 'Precision machining', 'Flexographic Pre-Press Certificate', 'Avionics', 'Solar PV', 'Applied Bachelorette in STEM', 'Associates of Applied Science - Optics', 'Solar training', 'Diesel Technician', 'OSHA', 'Industrial Maintenance Technicians', 'Advanced Manufacturing ', 'Maintenance ', 'Petroleum Production Lease Operator,', 'Nanotechnology Associates Of Applied Science ', 'Manufacturing Leadership', 'Power Plant Technology Nuclear Maintenance', 'Quality Technician Certificate', 'Instrumentation', 'Lead Paint Abatement Certificate', 'Industrial systems', 'Nanofabrication ', 'OSHA 10-Hour Safety Certificate', 'Coordinate between TAACCCT -1 Grantees', 'Manufacturing Technology', 'Sustainability  ', 'Industrial Plant Technology ', 'Pipefitting', 'Industrial Maintenance Technology', 'Industrial Power Distribution', 'Solar Installer/Maintenance', 'Sustainable Energy', 'GTAW', 'Process technician', 'Nanotechnology Certificate', 'Quality Control/Quality Assurance'}\n"
     ]
    }
   ],
   "source": [
    "training_certificates = set(energy_workforce_training['certificate'])\n",
    "print(training_certificates)"
   ]
  },
  {
   "cell_type": "raw",
   "metadata": {},
   "source": []
  }
 ],
 "metadata": {
  "kernelspec": {
   "display_name": "Python 3",
   "language": "python",
   "name": "python3"
  },
  "language_info": {
   "codemirror_mode": {
    "name": "ipython",
    "version": 3
   },
   "file_extension": ".py",
   "mimetype": "text/x-python",
   "name": "python",
   "nbconvert_exporter": "python",
   "pygments_lexer": "ipython3",
   "version": "3.6.5"
  }
 },
 "nbformat": 4,
 "nbformat_minor": 2
}
